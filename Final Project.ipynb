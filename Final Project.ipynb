{
 "cells": [
  {
   "cell_type": "code",
   "execution_count": 1,
   "id": "c0079815-ac1f-43f3-b716-30dac61f4331",
   "metadata": {},
   "outputs": [
    {
     "name": "stdout",
     "output_type": "stream",
     "text": [
      "Requirement already satisfied: opencv-python in c:\\users\\victoria\\anaconda3\\lib\\site-packages (4.10.0.84)\n",
      "Requirement already satisfied: numpy>=1.21.2 in c:\\users\\victoria\\anaconda3\\lib\\site-packages (from opencv-python) (1.26.4)\n"
     ]
    }
   ],
   "source": [
    "!pip install opencv-python"
   ]
  },
  {
   "cell_type": "code",
   "execution_count": 2,
   "id": "80be8ab7-468c-4eb0-8709-1eb5e0ed82ca",
   "metadata": {},
   "outputs": [],
   "source": [
    "import pandas as pd \n",
    "import numpy as np\n",
    "import cv2\n",
    "import os"
   ]
  },
  {
   "cell_type": "code",
   "execution_count": 3,
   "id": "aa5c886f-ea67-42e0-8cbb-781ad70dc1e4",
   "metadata": {},
   "outputs": [
    {
     "data": {
      "text/plain": [
       "'D:\\\\Northeastern\\\\Fall2024\\\\DS5220\\\\Project'"
      ]
     },
     "execution_count": 3,
     "metadata": {},
     "output_type": "execute_result"
    }
   ],
   "source": [
    "base_path = os.getcwd() \n",
    "base_path"
   ]
  },
  {
   "cell_type": "markdown",
   "id": "a3660e43-97b2-453d-9731-95204e465ed7",
   "metadata": {},
   "source": [
    "##### get all the train data from the train folder"
   ]
  },
  {
   "cell_type": "code",
   "execution_count": 4,
   "id": "fa418dde-6ed2-4049-b349-6cfdbdb6929a",
   "metadata": {},
   "outputs": [],
   "source": [
    "train_data = []\n",
    "train_folder = os.path.join(base_path, 'asl_alphabet_train')\n",
    "\n",
    "for folder in os.listdir(train_folder):\n",
    "    label_folder = os.path.join(train_folder, folder)\n",
    "    onlyfiles = [{'label':folder,'path':os.path.join(label_folder, f)} for f in os.listdir(label_folder) \n",
    "                 if os.path.isfile(os.path.join(label_folder, f))]\n",
    "    train_data += onlyfiles\n",
    "    \n",
    "train_df = pd.DataFrame(train_data)"
   ]
  },
  {
   "cell_type": "code",
   "execution_count": 6,
   "id": "ae873421-cca4-4030-875d-142b117cd9f1",
   "metadata": {},
   "outputs": [
    {
     "data": {
      "text/html": [
       "<div>\n",
       "<style scoped>\n",
       "    .dataframe tbody tr th:only-of-type {\n",
       "        vertical-align: middle;\n",
       "    }\n",
       "\n",
       "    .dataframe tbody tr th {\n",
       "        vertical-align: top;\n",
       "    }\n",
       "\n",
       "    .dataframe thead th {\n",
       "        text-align: right;\n",
       "    }\n",
       "</style>\n",
       "<table border=\"1\" class=\"dataframe\">\n",
       "  <thead>\n",
       "    <tr style=\"text-align: right;\">\n",
       "      <th></th>\n",
       "      <th>label</th>\n",
       "      <th>path</th>\n",
       "    </tr>\n",
       "  </thead>\n",
       "  <tbody>\n",
       "    <tr>\n",
       "      <th>0</th>\n",
       "      <td>A</td>\n",
       "      <td>D:\\Northeastern\\Fall2024\\DS5220\\Project\\asl_al...</td>\n",
       "    </tr>\n",
       "    <tr>\n",
       "      <th>1</th>\n",
       "      <td>A</td>\n",
       "      <td>D:\\Northeastern\\Fall2024\\DS5220\\Project\\asl_al...</td>\n",
       "    </tr>\n",
       "    <tr>\n",
       "      <th>2</th>\n",
       "      <td>A</td>\n",
       "      <td>D:\\Northeastern\\Fall2024\\DS5220\\Project\\asl_al...</td>\n",
       "    </tr>\n",
       "    <tr>\n",
       "      <th>3</th>\n",
       "      <td>A</td>\n",
       "      <td>D:\\Northeastern\\Fall2024\\DS5220\\Project\\asl_al...</td>\n",
       "    </tr>\n",
       "    <tr>\n",
       "      <th>4</th>\n",
       "      <td>A</td>\n",
       "      <td>D:\\Northeastern\\Fall2024\\DS5220\\Project\\asl_al...</td>\n",
       "    </tr>\n",
       "    <tr>\n",
       "      <th>...</th>\n",
       "      <td>...</td>\n",
       "      <td>...</td>\n",
       "    </tr>\n",
       "    <tr>\n",
       "      <th>86995</th>\n",
       "      <td>Z</td>\n",
       "      <td>D:\\Northeastern\\Fall2024\\DS5220\\Project\\asl_al...</td>\n",
       "    </tr>\n",
       "    <tr>\n",
       "      <th>86996</th>\n",
       "      <td>Z</td>\n",
       "      <td>D:\\Northeastern\\Fall2024\\DS5220\\Project\\asl_al...</td>\n",
       "    </tr>\n",
       "    <tr>\n",
       "      <th>86997</th>\n",
       "      <td>Z</td>\n",
       "      <td>D:\\Northeastern\\Fall2024\\DS5220\\Project\\asl_al...</td>\n",
       "    </tr>\n",
       "    <tr>\n",
       "      <th>86998</th>\n",
       "      <td>Z</td>\n",
       "      <td>D:\\Northeastern\\Fall2024\\DS5220\\Project\\asl_al...</td>\n",
       "    </tr>\n",
       "    <tr>\n",
       "      <th>86999</th>\n",
       "      <td>Z</td>\n",
       "      <td>D:\\Northeastern\\Fall2024\\DS5220\\Project\\asl_al...</td>\n",
       "    </tr>\n",
       "  </tbody>\n",
       "</table>\n",
       "<p>87000 rows × 2 columns</p>\n",
       "</div>"
      ],
      "text/plain": [
       "      label                                               path\n",
       "0         A  D:\\Northeastern\\Fall2024\\DS5220\\Project\\asl_al...\n",
       "1         A  D:\\Northeastern\\Fall2024\\DS5220\\Project\\asl_al...\n",
       "2         A  D:\\Northeastern\\Fall2024\\DS5220\\Project\\asl_al...\n",
       "3         A  D:\\Northeastern\\Fall2024\\DS5220\\Project\\asl_al...\n",
       "4         A  D:\\Northeastern\\Fall2024\\DS5220\\Project\\asl_al...\n",
       "...     ...                                                ...\n",
       "86995     Z  D:\\Northeastern\\Fall2024\\DS5220\\Project\\asl_al...\n",
       "86996     Z  D:\\Northeastern\\Fall2024\\DS5220\\Project\\asl_al...\n",
       "86997     Z  D:\\Northeastern\\Fall2024\\DS5220\\Project\\asl_al...\n",
       "86998     Z  D:\\Northeastern\\Fall2024\\DS5220\\Project\\asl_al...\n",
       "86999     Z  D:\\Northeastern\\Fall2024\\DS5220\\Project\\asl_al...\n",
       "\n",
       "[87000 rows x 2 columns]"
      ]
     },
     "execution_count": 6,
     "metadata": {},
     "output_type": "execute_result"
    }
   ],
   "source": [
    "train_df"
   ]
  },
  {
   "cell_type": "code",
   "execution_count": 9,
   "id": "73d40057-0ada-454a-a4e2-86d288fa61ac",
   "metadata": {},
   "outputs": [
    {
     "name": "stdout",
     "output_type": "stream",
     "text": [
      "['A', 'B', 'C', 'D', 'del', 'E', 'F', 'G', 'H', 'I', 'J', 'K', 'L', 'M', 'N', 'nothing', 'O', 'P', 'Q', 'R', 'S', 'space', 'T', 'U', 'V', 'W', 'X', 'Y', 'Z']\n"
     ]
    }
   ],
   "source": [
    "labels = train_df['label'].unique().tolist()\n",
    "print(labels)"
   ]
  },
  {
   "cell_type": "code",
   "execution_count": null,
   "id": "9cd2e1cc-81bb-4692-b4c7-1948e2c5d869",
   "metadata": {},
   "outputs": [],
   "source": []
  }
 ],
 "metadata": {
  "kernelspec": {
   "display_name": "Python 3 (ipykernel)",
   "language": "python",
   "name": "python3"
  },
  "language_info": {
   "codemirror_mode": {
    "name": "ipython",
    "version": 3
   },
   "file_extension": ".py",
   "mimetype": "text/x-python",
   "name": "python",
   "nbconvert_exporter": "python",
   "pygments_lexer": "ipython3",
   "version": "3.12.4"
  }
 },
 "nbformat": 4,
 "nbformat_minor": 5
}
